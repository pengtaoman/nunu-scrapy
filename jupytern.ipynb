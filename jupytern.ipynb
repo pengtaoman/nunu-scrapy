{
 "cells": [
  {
   "cell_type": "code",
   "execution_count": null,
   "metadata": {
    "collapsed": false,
    "pycharm": {
     "name": "#%%\n"
    }
   },
   "outputs": [],
   "source": [
    "\n",
    "#!/usr/bin/env python3\n",
    "# -*- coding: utf-8 -*-\n",
    "\"\"\"\n",
    "Created on Wed Jan 11 09:48:10 2023\n",
    "\n",
    "@author: pt\n",
    "\"\"\"\n",
    "\n",
    "import numpy as np\n",
    "import pandas as pd\n",
    "\n",
    "ratings_data = pd.read_csv(\"/Volumes/860EVO/work/json/ml-latest-small/ratings.csv\")\n",
    "ratings_data.head()\n",
    "\n",
    "movie_names = pd.read_csv(\"/Volumes/860EVO/work/json/ml-latest-small/movies.csv\")\n",
    "movie_names.head()\n",
    "\n",
    "\n",
    "movie_data = pd.merge(ratings_data, movie_names, on='movieId')\n",
    "\n",
    "movie_data.groupby('title')['rating'].mean().head()\n",
    "print(movie_data)"
   ]
  },
  {
   "cell_type": "code",
   "execution_count": null,
   "metadata": {
    "collapsed": false,
    "pycharm": {
     "name": "#%%\n"
    }
   },
   "outputs": [],
   "source": [
    "import pandas as pd\n",
    "import numpy as np\n",
    "import matplotlib.pyplot as plt\n",
    "\n",
    "df = pd.read_json(\"./pageon.json\")\n",
    "# df = pd.read_json(\"./json/movie.json\")\n",
    "df.dtypes\n",
    "# df.set_index('', inplace=True)\n",
    "print(type(df))\n",
    "print(df.info(verbose=False, memory_usage='deep'))\n",
    "cols = df.columns\n",
    "inx = df.index\n",
    "\n",
    "# df.loc[:, \"year\"] = df[\"year\"].str.replace(\"(\", \"\").astype('str')\n",
    "# df.loc[:, \"year\"] = df[\"year\"].str.replace(\")\", \"\").astype('int32')\n",
    "\n",
    "# df.loc[lambda df : (df[\"name\"]<=30) & (df[\"yWendu\"]>=15), :]\n",
    "filterdf = df[df.name.str.contains('霸王')]\n",
    "\n",
    "data = [[50, True], [40, False], [30, False]]\n",
    "label_rows = [\"Sally\", \"Mary\", \"John\"]\n",
    "label_cols = [\"age\", \"qualified\"]\n",
    "\n",
    "dataf = pd.DataFrame(data, label_rows, label_cols)\n",
    "print('#'*20)\n",
    "print(dataf.loc[\"Mary\", \"age\"])\n",
    "\n",
    "ts = pd.Series(np.random.randn(1000), index=pd.date_range('1/1/2000', periods=1000))\n",
    "ts = ts.cumsum()\n",
    "ts.plot()"
   ]
  },
  {
   "cell_type": "code",
   "execution_count": null,
   "metadata": {
    "collapsed": false,
    "pycharm": {
     "name": "#%%\n"
    }
   },
   "outputs": [],
   "source": [
    "df = pd.DataFrame({'Animal': ['Falcon', 'Falcon',\n",
    "                         'Parrot', 'Parrot'],\n",
    "               'Max Speed': [380., 370., 24., 26.]})\n",
    "df.groupby(\"Animal\", group_keys=True).apply(lambda x: x)\n"
   ]
  },
  {
   "cell_type": "code",
   "execution_count": null,
   "metadata": {},
   "outputs": [],
   "source": [
    "print(\"!!!!!!!!!!!!!!!!!!!!!!!\")"
   ]
  },
  {
   "cell_type": "code",
   "execution_count": 21,
   "metadata": {},
   "outputs": [
    {
     "data": {
      "text/plain": [
       "2"
      ]
     },
     "execution_count": 21,
     "metadata": {},
     "output_type": "execute_result"
    }
   ],
   "source": [
    "import numpy as np\n",
    "\n",
    "a=np.array([[1,2,3],[332,4545,666]])\n",
    "\n",
    "a.ndim"
   ]
  }
 ],
 "metadata": {
  "kernelspec": {
   "display_name": "Python 3",
   "language": "python",
   "name": "python3"
  },
  "language_info": {
   "codemirror_mode": {
    "name": "ipython",
    "version": 3
   },
   "file_extension": ".py",
   "mimetype": "text/x-python",
   "name": "python",
   "nbconvert_exporter": "python",
   "pygments_lexer": "ipython3",
   "version": "3.9.15"
  }
 },
 "nbformat": 4,
 "nbformat_minor": 0
}
